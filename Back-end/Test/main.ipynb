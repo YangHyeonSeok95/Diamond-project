{
 "cells": [
  {
   "cell_type": "code",
   "execution_count": null,
   "id": "c616b0a9",
   "metadata": {},
   "outputs": [
    {
     "name": "stdout",
     "output_type": "stream",
     "text": [
      " * Serving Flask app \"__main__\" (lazy loading)\n",
      " * Environment: production\n",
      "\u001b[31m   WARNING: This is a development server. Do not use it in a production deployment.\u001b[0m\n",
      "\u001b[2m   Use a production WSGI server instead.\u001b[0m\n",
      " * Debug mode: off\n"
     ]
    },
    {
     "name": "stderr",
     "output_type": "stream",
     "text": [
      " * Running on http://192.168.35.159:5027/ (Press CTRL+C to quit)\n",
      "192.168.35.159 - - [14/Aug/2022 08:52:59] \"GET / HTTP/1.1\" 405 -\n",
      "192.168.35.159 - - [14/Aug/2022 08:53:58] \"GET / HTTP/1.1\" 405 -\n"
     ]
    }
   ],
   "source": [
    "from flask import Flask, render_template, redirect, request, url_for\n",
    " \n",
    "app = Flask(__name__)\n",
    " \n",
    "@app.route('/', methods=['POST'])\n",
    "def main():\n",
    "    if request.method == 'POST':\n",
    "        return redirect(url_for('test'))\n",
    "    return render_template('main.html')\n",
    " \n",
    "@app.route('/test')\n",
    "def test():\n",
    "    return 'NEW PAGE'\n",
    " \n",
    "if __name__ == '__main__':\n",
    "    app.run(host = '192.168.35.159', port=5027)\n"
   ]
  },
  {
   "cell_type": "code",
   "execution_count": null,
   "id": "a381e0ad",
   "metadata": {},
   "outputs": [],
   "source": []
  }
 ],
 "metadata": {
  "kernelspec": {
   "display_name": "Python 3 (ipykernel)",
   "language": "python",
   "name": "python3"
  },
  "language_info": {
   "codemirror_mode": {
    "name": "ipython",
    "version": 3
   },
   "file_extension": ".py",
   "mimetype": "text/x-python",
   "name": "python",
   "nbconvert_exporter": "python",
   "pygments_lexer": "ipython3",
   "version": "3.9.12"
  },
  "toc": {
   "base_numbering": 1,
   "nav_menu": {},
   "number_sections": true,
   "sideBar": true,
   "skip_h1_title": false,
   "title_cell": "Table of Contents",
   "title_sidebar": "Contents",
   "toc_cell": false,
   "toc_position": {},
   "toc_section_display": true,
   "toc_window_display": false
  }
 },
 "nbformat": 4,
 "nbformat_minor": 5
}
