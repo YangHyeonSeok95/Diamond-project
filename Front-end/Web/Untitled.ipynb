{
 "cells": [
  {
   "cell_type": "code",
   "execution_count": null,
   "id": "aaff3972",
   "metadata": {},
   "outputs": [],
   "source": [
    "from flask_wtf import FlaskForm\n",
    "from wtforms import StringField\n",
    "from wtforms import PasswordField\n",
    "from wtforms.validators import DataRequired, EqualTo\n",
    "\n",
    "class RegisterForm(FlaskForm): # 모델을 생성하는 것과 비슷하다.\n",
    "\tuserid = StringField('userid', validators=[DataRequired()])\n",
    "    username = StringField('username', validators=[DataRequired()])\n",
    "    password = PasswordField('password', validators=[DataRequired(), EqualTo('repassword')])\n",
    "    # EqualTo는 비밀번호 확인과 같은지 검사한다.\n",
    "    repassword = PasswordField('repassword', validators=[DataRequired()])"
   ]
  }
 ],
 "metadata": {
  "kernelspec": {
   "display_name": "Python 3 (ipykernel)",
   "language": "python",
   "name": "python3"
  },
  "language_info": {
   "codemirror_mode": {
    "name": "ipython",
    "version": 3
   },
   "file_extension": ".py",
   "mimetype": "text/x-python",
   "name": "python",
   "nbconvert_exporter": "python",
   "pygments_lexer": "ipython3",
   "version": "3.9.12"
  },
  "toc": {
   "base_numbering": 1,
   "nav_menu": {},
   "number_sections": true,
   "sideBar": true,
   "skip_h1_title": false,
   "title_cell": "Table of Contents",
   "title_sidebar": "Contents",
   "toc_cell": false,
   "toc_position": {},
   "toc_section_display": true,
   "toc_window_display": false
  }
 },
 "nbformat": 4,
 "nbformat_minor": 5
}
