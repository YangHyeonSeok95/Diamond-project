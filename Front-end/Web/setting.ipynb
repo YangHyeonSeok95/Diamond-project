{
 "cells": [
  {
   "cell_type": "code",
   "execution_count": 1,
   "id": "7486b91d",
   "metadata": {},
   "outputs": [],
   "source": [
    "EMAIL_HOST = 'smtp.gmail.com'  # 메일 호스트 서버\n",
    "EMAIL_PORT = '5028'  # 서버 포트\n",
    "EMAIL_HOST_USER = 'minjukang727@gmail.com'  # 우리가 사용할 Gmail\n",
    "EMAIL_HOST_PASSWORD = 'Ninermf^930' # 우리가 사용할 Gmail p\n",
    "EMAIL_USE_TLS = True # TLS 보안 설정\n",
    "DEFAULT_FROM_EMAIL = EMAIL_HOST_USER # 응답 메일 관련 설정"
   ]
  },
  {
   "cell_type": "code",
   "execution_count": 2,
   "id": "9a0f17db",
   "metadata": {},
   "outputs": [
    {
     "ename": "SyntaxError",
     "evalue": "invalid syntax (2127060958.py, line 1)",
     "output_type": "error",
     "traceback": [
      "\u001b[1;36m  Input \u001b[1;32mIn [2]\u001b[1;36m\u001b[0m\n\u001b[1;33m    $ python manage.py shell\u001b[0m\n\u001b[1;37m    ^\u001b[0m\n\u001b[1;31mSyntaxError\u001b[0m\u001b[1;31m:\u001b[0m invalid syntax\n"
     ]
    }
   ],
   "source": []
  },
  {
   "cell_type": "code",
   "execution_count": null,
   "id": "974c165e",
   "metadata": {},
   "outputs": [],
   "source": []
  }
 ],
 "metadata": {
  "kernelspec": {
   "display_name": "Python 3 (ipykernel)",
   "language": "python",
   "name": "python3"
  },
  "language_info": {
   "codemirror_mode": {
    "name": "ipython",
    "version": 3
   },
   "file_extension": ".py",
   "mimetype": "text/x-python",
   "name": "python",
   "nbconvert_exporter": "python",
   "pygments_lexer": "ipython3",
   "version": "3.9.12"
  },
  "toc": {
   "base_numbering": 1,
   "nav_menu": {},
   "number_sections": true,
   "sideBar": true,
   "skip_h1_title": false,
   "title_cell": "Table of Contents",
   "title_sidebar": "Contents",
   "toc_cell": false,
   "toc_position": {},
   "toc_section_display": true,
   "toc_window_display": false
  }
 },
 "nbformat": 4,
 "nbformat_minor": 5
}
