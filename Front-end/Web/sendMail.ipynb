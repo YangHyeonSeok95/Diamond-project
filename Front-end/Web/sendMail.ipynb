{
 "cells": [
  {
   "cell_type": "code",
   "execution_count": null,
   "id": "dcd743c3",
   "metadata": {},
   "outputs": [],
   "source": [
    "import smtplib\n",
    "from email.mime.multipart import MIMEMultipart\n",
    "from email.mime.base import MIMEBase\n",
    "from email.mime.text import MIMEText\n",
    "from email import encoders\n",
    "\n",
    "\n",
    "# 보내는 사람 정보\n",
    "me = \"minjukang727@gmail.com\"\n",
    "my_password = \"Ninermf^930\"\n",
    "\n",
    "# 로그인하기\n",
    "s = smtplib.SMTP_SSL('smtp.gmail.com')\n",
    "s.login(me, my_password)\n",
    "\n",
    "# 받는 사람 정보 리스트로 작성\n",
    "you = 'yunju0514@naver.com'\n",
    "\n",
    "# 메일 기본 정보 설정\n",
    "msg = MIMEMultipart('alternative')\n",
    "msg['Subject'] = \"Diamond 가입 이메일 인증\"\n",
    "msg['From'] = me\n",
    "msg['To'] = you\n",
    "\n",
    "    # 메일 내용 쓰기\n",
    "    content = \"회원가입\"\n",
    "    part2 = MIMEText(content, 'plain')\n",
    "    msg.attach(part2)\n",
    "\n",
    "    # 파일 첨부하기 \n",
    "#     part = MIMEBase('application', \"octet-stream\")\n",
    "#     with open(\"첨부할 파일.확장자\", 'rb') as file:\n",
    "#         part.set_payload(file.read())\n",
    "#     encoders.encode_base64(part)\n",
    "#     part.add_header('Content-Disposition', \"attachment\", filename=\"첨부할 파일 이름.확장자\")\n",
    "#     msg.attach(part)\n",
    "\n",
    "\n",
    "    # 메일 보내고 서버 끄기\n",
    "    s.sendmail(me, you, msg.as_string())\n",
    "s.quit()"
   ]
  }
 ],
 "metadata": {
  "kernelspec": {
   "display_name": "Python 3 (ipykernel)",
   "language": "python",
   "name": "python3"
  },
  "language_info": {
   "codemirror_mode": {
    "name": "ipython",
    "version": 3
   },
   "file_extension": ".py",
   "mimetype": "text/x-python",
   "name": "python",
   "nbconvert_exporter": "python",
   "pygments_lexer": "ipython3",
   "version": "3.9.12"
  },
  "toc": {
   "base_numbering": 1,
   "nav_menu": {},
   "number_sections": true,
   "sideBar": true,
   "skip_h1_title": false,
   "title_cell": "Table of Contents",
   "title_sidebar": "Contents",
   "toc_cell": false,
   "toc_position": {},
   "toc_section_display": true,
   "toc_window_display": false
  }
 },
 "nbformat": 4,
 "nbformat_minor": 5
}
