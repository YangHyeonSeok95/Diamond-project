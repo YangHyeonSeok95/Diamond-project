{
 "cells": [
  {
   "cell_type": "code",
<<<<<<< HEAD
   "execution_count": 23,
   "id": "6ec9251f",
   "metadata": {},
   "outputs": [],
   "source": []
  },
  {
   "cell_type": "code",
   "execution_count": 26,
   "id": "e6012849",
   "metadata": {},
   "outputs": [
    {
     "name": "stdout",
     "output_type": "stream",
     "text": [
      "('강민주', 'KkoKko', '01087338662', 'minjukang727@gmail.com', 'diamond', 1)\n"
     ]
    }
   ],
   "source": [
    "# import cx_Oracle\n",
    "# import os\n",
    "# os.putenv('NLS_LANG', '.UTF8') # 한글 지원하기\n",
    "# conn = cx_Oracle.connect('hr','1234','localhost:1521/xe')\n",
    "\n",
    "# cursor = conn.cursor()\n",
    "# cursor.execute(\"select mname, mid, mtel, mmail, mlogin, manager from member\")\n",
    "# data = cursor.fetchall()\n",
    "# print(data[0])\n",
    "# cursor.close()\n",
    "# conn.close()"
   ]
  },
  {
   "cell_type": "code",
   "execution_count": 6,
   "id": "335411f9",
=======
   "execution_count": 1,
   "id": "2e016979",
>>>>>>> 54871b3abfb705295163e74b39b8232325098809
   "metadata": {},
   "outputs": [],
   "source": [
    "import cx_Oracle\n",
    "import os\n",
<<<<<<< HEAD
    "\n",
    "def login_(mlogin,mid,mpw='') :\n",
    "    os.putenv('NLS_LANG', '.UTF8') # 한글 지원하기\n",
    "    conn = cx_Oracle.connect('hr','1234','localhost:1521/xe')\n",
    "    if mlogin == 'web' :\n",
    "            cursor.execute(f\"SELECT mname, mid, mtel, mmail, mlogin, manager FROM member where mlogin='web', mid='{mid}', mpw='{mpw}'\")\n",
    "            \n",
    "    elif mlogin != '' :\n",
    "         cursor.execute(f\"SELECT mname, mid, mtel, mmail, mlogin, manager FROM member where mlogin='{mlogin}', mid='{mid}'\")\n",
=======
    "os.putenv('NLS_LANG', '.UTF8') # 한글 지원하기\n",
    "connection = cx_Oracle.connect('hr','1234','localhost:1521/xe')"
   ]
  },
  {
   "cell_type": "code",
   "execution_count": null,
   "id": "14206fda",
   "metadata": {},
   "outputs": [],
   "source": [
    "import pandas as pd\n",
    "\n",
    "class member :\n",
    "    mno, mname, mid, mpw, mtel, mmail, manager, mlogin, rdate, udate = None, None, None, None, None, None, None, None, None\n",
    "    \n",
    "    def __init__(mlogin, mid, mpw='') : \n",
    "        cursor.execute(\"set names utf8\")\n",
    "        if mlogin == 'web' :\n",
    "            cursor.execute(f\"SELECT * FROM member where mlogin='web', mid='{mid}', mpw='{mpw}'\")\n",
    "            \n",
    "        elif mlogin != '' :\n",
    "             cursor.execute(f\"SELECT * FROM member where mlogin='{mlogin}', mid='{mid}'\")\n",
    "        data = cursor.fetchall()\n",
    "        cursor.close()\n",
    "        conn.close()\n",
    "       \n",
    "        if data:\n",
    "            data = data[0]\n",
    "            session['user_id'] = mid\n",
    "            return redirect(url_for('home'))\n",
    "        else:\n",
    "            error = 'invalid input data detected !'\n",
    "    return render_template('main.html', error = error)\n",
    "        try :\n",
    "            self.mno = emp[0]\n",
    "            self.mname = emp[1]\n",
    "            self.mid = emp[2]\n",
    "        except:\n",
    "            return False\n",
    "    \n",
    "    def __del__(self):\n",
    "        self.mno, self.mname, self.mid, self.mpw, self.mtel, self.mmail, self.manager, self.mlogin, self.rdate, self.udate = None, None, None, None, None, None, None, None, None\n"
   ]
  },
  {
   "cell_type": "code",
   "execution_count": 2,
   "id": "688c0f0e",
   "metadata": {},
   "outputs": [
    {
     "ename": "KeyError",
     "evalue": "0",
     "output_type": "error",
     "traceback": [
      "\u001b[1;31m---------------------------------------------------------------------------\u001b[0m",
      "\u001b[1;31mKeyError\u001b[0m                                  Traceback (most recent call last)",
      "File \u001b[1;32m~\\Anaconda3\\lib\\site-packages\\pandas\\core\\indexes\\base.py:3621\u001b[0m, in \u001b[0;36mIndex.get_loc\u001b[1;34m(self, key, method, tolerance)\u001b[0m\n\u001b[0;32m   3620\u001b[0m \u001b[38;5;28;01mtry\u001b[39;00m:\n\u001b[1;32m-> 3621\u001b[0m     \u001b[38;5;28;01mreturn\u001b[39;00m \u001b[38;5;28;43mself\u001b[39;49m\u001b[38;5;241;43m.\u001b[39;49m\u001b[43m_engine\u001b[49m\u001b[38;5;241;43m.\u001b[39;49m\u001b[43mget_loc\u001b[49m\u001b[43m(\u001b[49m\u001b[43mcasted_key\u001b[49m\u001b[43m)\u001b[49m\n\u001b[0;32m   3622\u001b[0m \u001b[38;5;28;01mexcept\u001b[39;00m \u001b[38;5;167;01mKeyError\u001b[39;00m \u001b[38;5;28;01mas\u001b[39;00m err:\n",
      "File \u001b[1;32m~\\Anaconda3\\lib\\site-packages\\pandas\\_libs\\index.pyx:136\u001b[0m, in \u001b[0;36mpandas._libs.index.IndexEngine.get_loc\u001b[1;34m()\u001b[0m\n",
      "File \u001b[1;32m~\\Anaconda3\\lib\\site-packages\\pandas\\_libs\\index.pyx:163\u001b[0m, in \u001b[0;36mpandas._libs.index.IndexEngine.get_loc\u001b[1;34m()\u001b[0m\n",
      "File \u001b[1;32mpandas\\_libs\\hashtable_class_helper.pxi:5198\u001b[0m, in \u001b[0;36mpandas._libs.hashtable.PyObjectHashTable.get_item\u001b[1;34m()\u001b[0m\n",
      "File \u001b[1;32mpandas\\_libs\\hashtable_class_helper.pxi:5206\u001b[0m, in \u001b[0;36mpandas._libs.hashtable.PyObjectHashTable.get_item\u001b[1;34m()\u001b[0m\n",
      "\u001b[1;31mKeyError\u001b[0m: 0",
      "\nThe above exception was the direct cause of the following exception:\n",
      "\u001b[1;31mKeyError\u001b[0m                                  Traceback (most recent call last)",
      "Input \u001b[1;32mIn [2]\u001b[0m, in \u001b[0;36m<cell line: 7>\u001b[1;34m()\u001b[0m\n\u001b[0;32m      5\u001b[0m row \u001b[38;5;241m=\u001b[39m cursor\u001b[38;5;241m.\u001b[39mfetchall()\n\u001b[0;32m      6\u001b[0m emp \u001b[38;5;241m=\u001b[39m pd\u001b[38;5;241m.\u001b[39mDataFrame(row)\n\u001b[1;32m----> 7\u001b[0m \u001b[38;5;28mprint\u001b[39m(\u001b[43memp\u001b[49m\u001b[43m[\u001b[49m\u001b[38;5;241;43m0\u001b[39;49m\u001b[43m]\u001b[49m)\n",
      "File \u001b[1;32m~\\Anaconda3\\lib\\site-packages\\pandas\\core\\frame.py:3505\u001b[0m, in \u001b[0;36mDataFrame.__getitem__\u001b[1;34m(self, key)\u001b[0m\n\u001b[0;32m   3503\u001b[0m \u001b[38;5;28;01mif\u001b[39;00m \u001b[38;5;28mself\u001b[39m\u001b[38;5;241m.\u001b[39mcolumns\u001b[38;5;241m.\u001b[39mnlevels \u001b[38;5;241m>\u001b[39m \u001b[38;5;241m1\u001b[39m:\n\u001b[0;32m   3504\u001b[0m     \u001b[38;5;28;01mreturn\u001b[39;00m \u001b[38;5;28mself\u001b[39m\u001b[38;5;241m.\u001b[39m_getitem_multilevel(key)\n\u001b[1;32m-> 3505\u001b[0m indexer \u001b[38;5;241m=\u001b[39m \u001b[38;5;28;43mself\u001b[39;49m\u001b[38;5;241;43m.\u001b[39;49m\u001b[43mcolumns\u001b[49m\u001b[38;5;241;43m.\u001b[39;49m\u001b[43mget_loc\u001b[49m\u001b[43m(\u001b[49m\u001b[43mkey\u001b[49m\u001b[43m)\u001b[49m\n\u001b[0;32m   3506\u001b[0m \u001b[38;5;28;01mif\u001b[39;00m is_integer(indexer):\n\u001b[0;32m   3507\u001b[0m     indexer \u001b[38;5;241m=\u001b[39m [indexer]\n",
      "File \u001b[1;32m~\\Anaconda3\\lib\\site-packages\\pandas\\core\\indexes\\base.py:3623\u001b[0m, in \u001b[0;36mIndex.get_loc\u001b[1;34m(self, key, method, tolerance)\u001b[0m\n\u001b[0;32m   3621\u001b[0m     \u001b[38;5;28;01mreturn\u001b[39;00m \u001b[38;5;28mself\u001b[39m\u001b[38;5;241m.\u001b[39m_engine\u001b[38;5;241m.\u001b[39mget_loc(casted_key)\n\u001b[0;32m   3622\u001b[0m \u001b[38;5;28;01mexcept\u001b[39;00m \u001b[38;5;167;01mKeyError\u001b[39;00m \u001b[38;5;28;01mas\u001b[39;00m err:\n\u001b[1;32m-> 3623\u001b[0m     \u001b[38;5;28;01mraise\u001b[39;00m \u001b[38;5;167;01mKeyError\u001b[39;00m(key) \u001b[38;5;28;01mfrom\u001b[39;00m \u001b[38;5;21;01merr\u001b[39;00m\n\u001b[0;32m   3624\u001b[0m \u001b[38;5;28;01mexcept\u001b[39;00m \u001b[38;5;167;01mTypeError\u001b[39;00m:\n\u001b[0;32m   3625\u001b[0m     \u001b[38;5;66;03m# If we have a listlike key, _check_indexing_error will raise\u001b[39;00m\n\u001b[0;32m   3626\u001b[0m     \u001b[38;5;66;03m#  InvalidIndexError. Otherwise we fall through and re-raise\u001b[39;00m\n\u001b[0;32m   3627\u001b[0m     \u001b[38;5;66;03m#  the TypeError.\u001b[39;00m\n\u001b[0;32m   3628\u001b[0m     \u001b[38;5;28mself\u001b[39m\u001b[38;5;241m.\u001b[39m_check_indexing_error(key)\n",
      "\u001b[1;31mKeyError\u001b[0m: 0"
     ]
    }
   ],
   "source": [
    "def login_(mlogin,mid,mpw='') :\n",
    "    if mlogin == 'web' :\n",
    "            cursor.execute(f\"SELECT * FROM member where mlogin='web', mid='{mid}', mpw='{mpw}'\")\n",
    "            \n",
    "    elif mlogin != '' :\n",
    "         cursor.execute(f\"SELECT * FROM member where mlogin='{mlogin}', mid='{mid}'\")\n",
>>>>>>> 54871b3abfb705295163e74b39b8232325098809
    "    data = cursor.fetchall()\n",
    "    cursor.close()\n",
    "    conn.close()\n",
    "\n",
    "    if data:\n",
    "        data = data[0]\n",
<<<<<<< HEAD
    "        print(data)\n",
    "        session['user_id'] =  data[1]\n",
    "        session['login_by'] = data[4]\n",
    "        session['manager'] = data[5]\n",
=======
    "        session['user_id'] = mid\n",
>>>>>>> 54871b3abfb705295163e74b39b8232325098809
    "        return redirect(url_for('/'))\n",
    "    else:\n",
    "        error = '유효하지 않은 로그인 정보 입력!'\n",
    "    return render_template('/login', error = error)\n",
<<<<<<< HEAD
    "\n",
    "def select_all(mlogin,mid) :\n",
    "    os.putenv('NLS_LANG', '.UTF8') # 한글 지원하기\n",
    "    conn = cx_Oracle.connect('hr','1234','localhost:1521/xe')\n",
    "    cursor.execute(f\"SELECT mname, mid, mtel, mmail, mlogin, manager FROM member where mlogin='{mlogin}', mid='{mid}'\")\n",
    "    data = cursor.fetchall()\n",
    "    cursor.close()\n",
    "    conn.close()\n",
    "    if data:\n",
    "        data = data[0]\n",
    "        return data\n",
    "    else :\n",
    "        return render_template('/404')"
=======
    "        "
>>>>>>> 54871b3abfb705295163e74b39b8232325098809
   ]
  },
  {
   "cell_type": "code",
   "execution_count": null,
<<<<<<< HEAD
   "id": "3b8d54d5",
   "metadata": {},
   "outputs": [],
   "source": [
    "# import pandas as pd\n",
    "\n",
    "# class member :\n",
    "#     mno, mname, mid, mpw, mtel, mmail, manager, mlogin, rdate, udate = None, None, None, None, None, None, None, None, None\n",
    "    \n",
    "#     def __init__(mlogin, mid, mpw='') : \n",
    "#         cursor.execute(\"set names utf8\")\n",
    "#         if mlogin == 'web' :\n",
    "#             cursor.execute(f\"SELECT * FROM member where mlogin='web', mid='{mid}', mpw='{mpw}'\")\n",
    "            \n",
    "#         elif mlogin != '' :\n",
    "#              cursor.execute(f\"SELECT * FROM member where mlogin='{mlogin}', mid='{mid}'\")\n",
    "#         data = cursor.fetchall()\n",
    "#         cursor.close()\n",
    "#         conn.close()\n",
    "       \n",
    "#         if data:\n",
    "#             data = data[0]\n",
    "#             session['user_id'] = mid\n",
    "#             return redirect(url_for('home'))\n",
    "#         else:\n",
    "#             error = 'invalid input data detected !'\n",
    "#     return render_template('main.html', error = error)\n",
    "#         try :\n",
    "#             self.mno = emp[0]\n",
    "#             self.mname = emp[1]\n",
    "#             self.mid = emp[2]\n",
    "#         except:\n",
    "#             return False\n",
    "    \n",
    "#     def __del__(self):\n",
    "#         self.mno, self.mname, self.mid, self.mpw, self.mtel, self.mmail, self.manager, self.mlogin, self.rdate, self.udate = None, None, None, None, None, None, None, None, None\n"
   ]
  },
  {
   "cell_type": "code",
   "execution_count": null,
   "id": "d627d1e1",
=======
   "id": "b58a9339",
>>>>>>> 54871b3abfb705295163e74b39b8232325098809
   "metadata": {},
   "outputs": [],
   "source": []
  }
 ],
 "metadata": {
  "kernelspec": {
   "display_name": "Python 3 (ipykernel)",
   "language": "python",
   "name": "python3"
  },
  "language_info": {
   "codemirror_mode": {
    "name": "ipython",
    "version": 3
   },
   "file_extension": ".py",
   "mimetype": "text/x-python",
   "name": "python",
   "nbconvert_exporter": "python",
   "pygments_lexer": "ipython3",
   "version": "3.9.12"
  },
  "toc": {
   "base_numbering": 1,
   "nav_menu": {},
   "number_sections": true,
   "sideBar": true,
   "skip_h1_title": false,
   "title_cell": "Table of Contents",
   "title_sidebar": "Contents",
   "toc_cell": false,
   "toc_position": {},
   "toc_section_display": true,
   "toc_window_display": false
  }
 },
 "nbformat": 4,
 "nbformat_minor": 5
}
