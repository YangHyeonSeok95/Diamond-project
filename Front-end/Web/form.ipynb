{
 "cells": [
  {
   "cell_type": "code",
   "execution_count": null,
   "id": "1a18e94a",
   "metadata": {},
   "outputs": [],
   "source": [
    "# import re\n",
    "\n",
    "# class signupForm(FlaskForm) :\n",
    "#     name, ID, pw, pw2, tel, email = None, None, None, None, None, None\n",
    "#     def check_name(name) :\n",
    "#         reg = r'^[가-힣]{2,10}$'\n",
    "#         if not re.search(reg, name) :\n",
    "#             print('이름 생성 기준에 부적당합니다!')\n",
    "#             return False\n",
    "#         return True\n",
    "\n",
    "#     def check_id(ID) :\n",
    "#         reg = r'^^[a-zA-Z]\\w{6,12}$/u'\n",
    "#         if not re.search(reg, ID) :\n",
    "#             print('아이디 생성 기준에 부적당합니다!')\n",
    "#             return False\n",
    "#         return True\n",
    "\n",
    "#     def check_pw(ID, pw, pw2):\n",
    "#         reg = r'^(?=.*[a-zA-Z])(?=.*\\d)(?=.*[!@#$%&*?])[A-Za-z\\d!@#$%&*?]{8,20}$'\n",
    "#         if ID == pw :\n",
    "#             print('비밀번호를 아이디와 다르게 입력해 주세요.')\n",
    "#             return False\n",
    "#         if not re.search(reg, pw):\n",
    "#             print('비밀번호 기준에 부적당합니다.')\n",
    "#             return False\n",
    "#         if pw != pw2 :\n",
    "#             print('비밀번호가 서로 일치하지 않습니다.')\n",
    "#             return False\n",
    "#         return True\n",
    "\n",
    "#     def check_tel(tel):\n",
    "#         reg = r'^(010|011|016|017|018|019)-\\d{3,4}-\\d{4}$/u'\n",
    "#         if not re.search(reg, tel):\n",
    "#             print('휴대폰 번호 기준에 부적당합니다.')\n",
    "#             return False\n",
    "#         return True\n",
    "\n",
    "#     def check_email(email) :\n",
    "#         reg = r'^[a-zA-Z0-9._%+-]+@[a-zA-Z0-9.-]+\\.[a-zA-Z]{2,4}$'\n",
    "#         if not re.search(reg, email):\n",
    "#             print('이메일 기준에 부적당합니다.')\n",
    "#             return False\n",
    "#         return True\n"
   ]
  },
  {
   "cell_type": "code",
   "execution_count": null,
   "id": "a783d3fd",
   "metadata": {},
   "outputs": [],
   "source": [
    "from flask_wtf import FlaskForm\n",
    "from wtforms import StringField, validators, PasswordField, BooleanField, \n",
    "from validators import email\n",
    "\n",
    "\n",
    "class RegisterForm(FlaskForm):\n",
    "    mname = StringField('mname', [validators.Length(min=2, max=10)])\n",
    "    # email format에 대한 유효성 검사를 위해서는 추가적으로 email_validator package를 추가해야함\n",
    "    memail = StringField('memail', [validators.DataRequired()])\n",
    "    mpw = PasswordField('mpw', [\n",
    "        validators.DataRequired(),\n",
    "        validators.EqualTo('mpw2', message='비밀번호가 반드시 일치해야 합니다.'),\n",
    "    ])\n",
    "    mpw2 = PasswordField('mpw2')\n",
    "    mtel = StringField('mtel',[validators])"
   ]
  }
 ],
 "metadata": {
  "kernelspec": {
   "display_name": "Python 3 (ipykernel)",
   "language": "python",
   "name": "python3"
  },
  "language_info": {
   "codemirror_mode": {
    "name": "ipython",
    "version": 3
   },
   "file_extension": ".py",
   "mimetype": "text/x-python",
   "name": "python",
   "nbconvert_exporter": "python",
   "pygments_lexer": "ipython3",
   "version": "3.9.12"
  },
  "toc": {
   "base_numbering": 1,
   "nav_menu": {},
   "number_sections": true,
   "sideBar": true,
   "skip_h1_title": false,
   "title_cell": "Table of Contents",
   "title_sidebar": "Contents",
   "toc_cell": false,
   "toc_position": {},
   "toc_section_display": true,
   "toc_window_display": false
  }
 },
 "nbformat": 4,
 "nbformat_minor": 5
}
