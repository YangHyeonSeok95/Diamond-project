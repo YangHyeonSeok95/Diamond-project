{
 "cells": [
  {
   "cell_type": "code",
   "execution_count": null,
   "id": "dfdf79fc",
   "metadata": {},
   "outputs": [],
   "source": [
    "from forms import RegisterForm\n",
    "\n",
    "@app.route('/register', methods=['GET', 'POST'])\n",
    "def signup():\n",
    "    # 회원가입\n",
    "    form = RegisterForm()\n",
    "\n",
    "    if request.method == 'POST':\n",
    "        if form.validate_on_submit():\n",
    "            username = form.data.get('mname')\n",
    "            email = form.data.get('email')\n",
    "            password = form.data.get('password')\n",
    "\n",
    "\n",
    "            user = User()\n",
    "            user.email = email\n",
    "            user.name = username\n",
    "            user.password = password\n",
    "\n",
    "            db.session.add(user)\n",
    "            db.session.commit()\n",
    "\n",
    "            # 알림 메세지를 띄우기 위함 >> 필수X\n",
    "            flash('회원 가입이 완료되었습니다.')\n",
    "            return redirect(url_for('index'))\n",
    "    else:\n",
    "        flash('입력한 값을 확인해주세요.')\n",
    "\t\n",
    "    # 생성한 form instance template에 넘겨주기\n",
    "    return render_template('auth/register.html', form=form)\n",
    "if __name__ == \"main\":\n",
    "\n",
    "    app.config['SECRET_KEY'] = 'aksldjfalksdj' # 해시값은 아무거나 적었다.\n",
    "    csrf = CSRFProtect()\n",
    "    csrf.init_app(app)"
   ]
  }
 ],
 "metadata": {
  "kernelspec": {
   "display_name": "Python 3 (ipykernel)",
   "language": "python",
   "name": "python3"
  },
  "language_info": {
   "codemirror_mode": {
    "name": "ipython",
    "version": 3
   },
   "file_extension": ".py",
   "mimetype": "text/x-python",
   "name": "python",
   "nbconvert_exporter": "python",
   "pygments_lexer": "ipython3",
   "version": "3.9.12"
  },
  "toc": {
   "base_numbering": 1,
   "nav_menu": {},
   "number_sections": true,
   "sideBar": true,
   "skip_h1_title": false,
   "title_cell": "Table of Contents",
   "title_sidebar": "Contents",
   "toc_cell": false,
   "toc_position": {},
   "toc_section_display": true,
   "toc_window_display": false
  }
 },
 "nbformat": 4,
 "nbformat_minor": 5
}
