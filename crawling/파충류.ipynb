{
 "cells": [
  {
   "cell_type": "code",
   "execution_count": 2,
   "id": "f69d4c26",
   "metadata": {},
   "outputs": [
    {
     "name": "stdout",
     "output_type": "stream",
     "text": [
      "Requirement already satisfied: webdriver_manager in c:\\users\\ai\\anaconda3\\lib\\site-packages (3.8.3)\n",
      "Requirement already satisfied: requests in c:\\users\\ai\\anaconda3\\lib\\site-packages (from webdriver_manager) (2.27.1)\n",
      "Requirement already satisfied: python-dotenv in c:\\users\\ai\\anaconda3\\lib\\site-packages (from webdriver_manager) (0.20.0)\n",
      "Requirement already satisfied: tqdm in c:\\users\\ai\\anaconda3\\lib\\site-packages (from webdriver_manager) (4.64.0)\n",
      "Requirement already satisfied: charset-normalizer~=2.0.0 in c:\\users\\ai\\anaconda3\\lib\\site-packages (from requests->webdriver_manager) (2.0.4)\n",
      "Requirement already satisfied: idna<4,>=2.5 in c:\\users\\ai\\anaconda3\\lib\\site-packages (from requests->webdriver_manager) (3.3)\n",
      "Requirement already satisfied: urllib3<1.27,>=1.21.1 in c:\\users\\ai\\anaconda3\\lib\\site-packages (from requests->webdriver_manager) (1.26.9)\n",
      "Requirement already satisfied: certifi>=2017.4.17 in c:\\users\\ai\\anaconda3\\lib\\site-packages (from requests->webdriver_manager) (2021.10.8)\n",
      "Requirement already satisfied: colorama in c:\\users\\ai\\anaconda3\\lib\\site-packages (from tqdm->webdriver_manager) (0.4.4)\n"
     ]
    }
   ],
   "source": [
    "!pip install webdriver_manager"
   ]
  },
  {
   "cell_type": "code",
   "execution_count": 2,
   "id": "ba89e008",
   "metadata": {},
   "outputs": [],
   "source": [
    "import requests\n",
    "from bs4 import BeautifulSoup\n",
    "from selenium import webdriver\n",
    "from selenium.webdriver.common.by import By\n",
    "from selenium.webdriver.chrome.options import Options\n",
    "from selenium.webdriver.support.ui import WebDriverWait\n",
    "from selenium.webdriver.support import expected_conditions as EC\n",
    "import time\n",
    "import re\n",
    "import pandas as pd\n",
    "import numpy as np\n",
    "from selenium.webdriver.chrome.service import Service\n",
    "from webdriver_manager.chrome import ChromeDriverManager\n"
   ]
  },
  {
   "cell_type": "code",
   "execution_count": 3,
   "id": "3f35771f",
   "metadata": {},
   "outputs": [],
   "source": [
    "chrome_options = Options()\n",
    "chrome_options.add_experimental_option(\"detach\",True)"
   ]
  },
  {
   "cell_type": "code",
   "execution_count": 6,
   "id": "c4ddd5b5",
   "metadata": {
    "scrolled": true
   },
   "outputs": [
    {
     "name": "stderr",
     "output_type": "stream",
     "text": [
      "[WDM] - Downloading: 100%|████████████████████████████████████████████████████████| 6.21M/6.21M [00:00<00:00, 44.7MB/s]\n"
     ]
    }
   ],
   "source": [
    "service = Service(executable_path=ChromeDriverManager().install())"
   ]
  },
  {
   "cell_type": "code",
   "execution_count": 87,
   "id": "ab8b24fe",
   "metadata": {
    "scrolled": true
   },
   "outputs": [
    {
     "name": "stdout",
     "output_type": "stream",
     "text": [
      "['gybe_jk']\n"
     ]
    },
    {
     "ename": "NoSuchElementException",
     "evalue": "Message: no such element: Unable to locate element: {\"method\":\"css selector\",\"selector\":\"._aaqt \"}\n  (Session info: chrome=104.0.5112.81)\nStacktrace:\nBacktrace:\n\tOrdinal0 [0x008478B3+2193587]\n\tOrdinal0 [0x007E0681+1771137]\n\tOrdinal0 [0x006F41A8+803240]\n\tOrdinal0 [0x007224A0+992416]\n\tOrdinal0 [0x0072273B+993083]\n\tOrdinal0 [0x0074F7C2+1177538]\n\tOrdinal0 [0x0073D7F4+1103860]\n\tOrdinal0 [0x0074DAE2+1170146]\n\tOrdinal0 [0x0073D5C6+1103302]\n\tOrdinal0 [0x007177E0+948192]\n\tOrdinal0 [0x007186E6+952038]\n\tGetHandleVerifier [0x00AF0CB2+2738370]\n\tGetHandleVerifier [0x00AE21B8+2678216]\n\tGetHandleVerifier [0x008D17AA+512954]\n\tGetHandleVerifier [0x008D0856+509030]\n\tOrdinal0 [0x007E743B+1799227]\n\tOrdinal0 [0x007EBB68+1817448]\n\tOrdinal0 [0x007EBC55+1817685]\n\tOrdinal0 [0x007F5230+1856048]\n\tBaseThreadInitThunk [0x7721FA29+25]\n\tRtlGetAppContainerNamedObjectPath [0x777D7A9E+286]\n\tRtlGetAppContainerNamedObjectPath [0x777D7A6E+238]\n",
     "output_type": "error",
     "traceback": [
      "\u001b[1;31m---------------------------------------------------------------------------\u001b[0m",
      "\u001b[1;31mNoSuchElementException\u001b[0m                    Traceback (most recent call last)",
      "Input \u001b[1;32mIn [87]\u001b[0m, in \u001b[0;36m<cell line: 53>\u001b[1;34m()\u001b[0m\n\u001b[0;32m     51\u001b[0m id_list \u001b[38;5;241m=\u001b[39m []\n\u001b[0;32m     53\u001b[0m \u001b[38;5;28;01mfor\u001b[39;00m i \u001b[38;5;129;01min\u001b[39;00m \u001b[38;5;28mrange\u001b[39m(\u001b[38;5;241m10\u001b[39m):\n\u001b[1;32m---> 54\u001b[0m     insta_id \u001b[38;5;241m=\u001b[39m \u001b[43mdriver\u001b[49m\u001b[38;5;241;43m.\u001b[39;49m\u001b[43mfind_element\u001b[49m\u001b[43m(\u001b[49m\u001b[43mBy\u001b[49m\u001b[38;5;241;43m.\u001b[39;49m\u001b[43mCLASS_NAME\u001b[49m\u001b[43m,\u001b[49m\u001b[38;5;124;43m\"\u001b[39;49m\u001b[38;5;124;43m_aaqt \u001b[39;49m\u001b[38;5;124;43m\"\u001b[39;49m\u001b[43m)\u001b[49m\u001b[38;5;241m.\u001b[39mtext    \n\u001b[0;32m     55\u001b[0m     id_list\u001b[38;5;241m.\u001b[39mappend(insta_id)\n\u001b[0;32m     56\u001b[0m     \u001b[38;5;66;03m#첫번째장 옆으로 넘기기 1번만 해야힘\u001b[39;00m\n",
      "File \u001b[1;32m~\\anaconda3\\lib\\site-packages\\selenium\\webdriver\\remote\\webdriver.py:857\u001b[0m, in \u001b[0;36mWebDriver.find_element\u001b[1;34m(self, by, value)\u001b[0m\n\u001b[0;32m    854\u001b[0m     by \u001b[38;5;241m=\u001b[39m By\u001b[38;5;241m.\u001b[39mCSS_SELECTOR\n\u001b[0;32m    855\u001b[0m     value \u001b[38;5;241m=\u001b[39m \u001b[38;5;124m'\u001b[39m\u001b[38;5;124m[name=\u001b[39m\u001b[38;5;124m\"\u001b[39m\u001b[38;5;132;01m%s\u001b[39;00m\u001b[38;5;124m\"\u001b[39m\u001b[38;5;124m]\u001b[39m\u001b[38;5;124m'\u001b[39m \u001b[38;5;241m%\u001b[39m value\n\u001b[1;32m--> 857\u001b[0m \u001b[38;5;28;01mreturn\u001b[39;00m \u001b[38;5;28;43mself\u001b[39;49m\u001b[38;5;241;43m.\u001b[39;49m\u001b[43mexecute\u001b[49m\u001b[43m(\u001b[49m\u001b[43mCommand\u001b[49m\u001b[38;5;241;43m.\u001b[39;49m\u001b[43mFIND_ELEMENT\u001b[49m\u001b[43m,\u001b[49m\u001b[43m \u001b[49m\u001b[43m{\u001b[49m\n\u001b[0;32m    858\u001b[0m \u001b[43m    \u001b[49m\u001b[38;5;124;43m'\u001b[39;49m\u001b[38;5;124;43musing\u001b[39;49m\u001b[38;5;124;43m'\u001b[39;49m\u001b[43m:\u001b[49m\u001b[43m \u001b[49m\u001b[43mby\u001b[49m\u001b[43m,\u001b[49m\n\u001b[0;32m    859\u001b[0m \u001b[43m    \u001b[49m\u001b[38;5;124;43m'\u001b[39;49m\u001b[38;5;124;43mvalue\u001b[39;49m\u001b[38;5;124;43m'\u001b[39;49m\u001b[43m:\u001b[49m\u001b[43m \u001b[49m\u001b[43mvalue\u001b[49m\u001b[43m}\u001b[49m\u001b[43m)\u001b[49m[\u001b[38;5;124m'\u001b[39m\u001b[38;5;124mvalue\u001b[39m\u001b[38;5;124m'\u001b[39m]\n",
      "File \u001b[1;32m~\\anaconda3\\lib\\site-packages\\selenium\\webdriver\\remote\\webdriver.py:435\u001b[0m, in \u001b[0;36mWebDriver.execute\u001b[1;34m(self, driver_command, params)\u001b[0m\n\u001b[0;32m    433\u001b[0m response \u001b[38;5;241m=\u001b[39m \u001b[38;5;28mself\u001b[39m\u001b[38;5;241m.\u001b[39mcommand_executor\u001b[38;5;241m.\u001b[39mexecute(driver_command, params)\n\u001b[0;32m    434\u001b[0m \u001b[38;5;28;01mif\u001b[39;00m response:\n\u001b[1;32m--> 435\u001b[0m     \u001b[38;5;28;43mself\u001b[39;49m\u001b[38;5;241;43m.\u001b[39;49m\u001b[43merror_handler\u001b[49m\u001b[38;5;241;43m.\u001b[39;49m\u001b[43mcheck_response\u001b[49m\u001b[43m(\u001b[49m\u001b[43mresponse\u001b[49m\u001b[43m)\u001b[49m\n\u001b[0;32m    436\u001b[0m     response[\u001b[38;5;124m'\u001b[39m\u001b[38;5;124mvalue\u001b[39m\u001b[38;5;124m'\u001b[39m] \u001b[38;5;241m=\u001b[39m \u001b[38;5;28mself\u001b[39m\u001b[38;5;241m.\u001b[39m_unwrap_value(\n\u001b[0;32m    437\u001b[0m         response\u001b[38;5;241m.\u001b[39mget(\u001b[38;5;124m'\u001b[39m\u001b[38;5;124mvalue\u001b[39m\u001b[38;5;124m'\u001b[39m, \u001b[38;5;28;01mNone\u001b[39;00m))\n\u001b[0;32m    438\u001b[0m     \u001b[38;5;28;01mreturn\u001b[39;00m response\n",
      "File \u001b[1;32m~\\anaconda3\\lib\\site-packages\\selenium\\webdriver\\remote\\errorhandler.py:247\u001b[0m, in \u001b[0;36mErrorHandler.check_response\u001b[1;34m(self, response)\u001b[0m\n\u001b[0;32m    245\u001b[0m         alert_text \u001b[38;5;241m=\u001b[39m value[\u001b[38;5;124m'\u001b[39m\u001b[38;5;124malert\u001b[39m\u001b[38;5;124m'\u001b[39m]\u001b[38;5;241m.\u001b[39mget(\u001b[38;5;124m'\u001b[39m\u001b[38;5;124mtext\u001b[39m\u001b[38;5;124m'\u001b[39m)\n\u001b[0;32m    246\u001b[0m     \u001b[38;5;28;01mraise\u001b[39;00m exception_class(message, screen, stacktrace, alert_text)  \u001b[38;5;66;03m# type: ignore[call-arg]  # mypy is not smart enough here\u001b[39;00m\n\u001b[1;32m--> 247\u001b[0m \u001b[38;5;28;01mraise\u001b[39;00m exception_class(message, screen, stacktrace)\n",
      "\u001b[1;31mNoSuchElementException\u001b[0m: Message: no such element: Unable to locate element: {\"method\":\"css selector\",\"selector\":\"._aaqt \"}\n  (Session info: chrome=104.0.5112.81)\nStacktrace:\nBacktrace:\n\tOrdinal0 [0x008478B3+2193587]\n\tOrdinal0 [0x007E0681+1771137]\n\tOrdinal0 [0x006F41A8+803240]\n\tOrdinal0 [0x007224A0+992416]\n\tOrdinal0 [0x0072273B+993083]\n\tOrdinal0 [0x0074F7C2+1177538]\n\tOrdinal0 [0x0073D7F4+1103860]\n\tOrdinal0 [0x0074DAE2+1170146]\n\tOrdinal0 [0x0073D5C6+1103302]\n\tOrdinal0 [0x007177E0+948192]\n\tOrdinal0 [0x007186E6+952038]\n\tGetHandleVerifier [0x00AF0CB2+2738370]\n\tGetHandleVerifier [0x00AE21B8+2678216]\n\tGetHandleVerifier [0x008D17AA+512954]\n\tGetHandleVerifier [0x008D0856+509030]\n\tOrdinal0 [0x007E743B+1799227]\n\tOrdinal0 [0x007EBB68+1817448]\n\tOrdinal0 [0x007EBC55+1817685]\n\tOrdinal0 [0x007F5230+1856048]\n\tBaseThreadInitThunk [0x7721FA29+25]\n\tRtlGetAppContainerNamedObjectPath [0x777D7A9E+286]\n\tRtlGetAppContainerNamedObjectPath [0x777D7A6E+238]\n"
     ]
    }
   ],
   "source": [
    "# 해시태그 검색어\n",
    "keyword = \"파충류\"\n",
    "\n",
    "# 사전 정보 정의\n",
    "username = '사용자 인스타그램 아이디'\n",
    "userpw = '사용자 인스타그램 비밀번호'\n",
    "time.sleep(3)\n",
    "\n",
    "# 해시태그 url 값\n",
    "url = \"https://www.instagram.com/explore/tags/{}/\".format(keyword)\n",
    "\n",
    "# # dataframe 만들기(tags 컬럼(t1은 최대 20개까지로...))\n",
    "# insta_df = pd.DataFrame(\"\", index=np.arange(1,9400), columns=[\"account\",\"date\", \"t1\", \"t2\", \"t3\", \"t4\", \"t5\", \"t6\", \"t7\", \"t8\", \"t9\", \"t10\"\n",
    "\n",
    "#                                                               , \"t11\", \"t12\", \"t13\", \"t14\", \"t15\", \"t16\", \"t17\", \"t18\", \"t19\", \"t20\"])\n",
    "\n",
    "\n",
    "# instagram_account =[]\n",
    "\n",
    "# 인스타 로그인 URL\n",
    "loginUrl = 'https://www.instagram.com/accounts/login/'\n",
    "\n",
    "\n",
    "# Chrome drvier 실행\n",
    "driver = webdriver.Chrome(service=service,options=chrome_options)\n",
    "driver.get(loginUrl)\n",
    "time.sleep(5)\n",
    "\n",
    "# login\n",
    "_id = driver.find_element(By.NAME,'username')\n",
    "_id.send_keys(username)\n",
    "pasw = driver.find_element(By.NAME,'password')\n",
    "pasw.send_keys(userpw)\n",
    "time.sleep(2)\n",
    "driver.find_element(By.CSS_SELECTOR,\"#loginForm > div > div:nth-child(3) > button\").click()\n",
    "time.sleep(5)\n",
    "# 정보 나중에 저장하기 클릭하고 넘어가기\n",
    "driver.find_element(By.CLASS_NAME,\"yWX7d\").click()     \n",
    "time.sleep(5)\n",
    "# 설정 나중에하기 클릭하고 넘어가기\n",
    "driver.find_element(By.XPATH,\"/html/body/div[1]/div/div/div/div[2]/div/div/div[1]/div/div[2]/div/div/div/div/div/div/div/div[3]/button[2]\").click()   \n",
    "time.sleep(3)\n",
    "\n",
    "driver.get(url)\n",
    "time.sleep(5)\n",
    "\n",
    "# 맨 왼쪽 상단 첫 게시물 클릭\n",
    "driver.find_element(By.XPATH,\"/html/body/div[1]/div/div/div/div[1]/div/div/div/div[1]/div[1]/section/main/article/div[1]/div/div/div[1]/div[1]/a/div[1]/div[2]\").click()\n",
    "time.sleep(3)\n",
    "\n",
    "id_list = []\n",
    "\n",
    "for i in range(10):\n",
    "    insta_id = driver.find_element(By.CLASS_NAME,\"_aaqt \").text    \n",
    "    id_list.append(insta_id)\n",
    "    #첫번째장 옆으로 넘기기 1번만 해야힘\n",
    "    driver.find_element(By.CLASS_NAME,\"_aaqg\").click()\n",
    "    print(id_list)"
   ]
  },
  {
   "cell_type": "code",
   "execution_count": 28,
   "id": "eb3b4fd6",
   "metadata": {},
   "outputs": [
    {
     "name": "stdout",
     "output_type": "stream",
     "text": [
      "     account date t1 t2 t3 t4 t5 t6 t7 t8  ... t11 t12 t13 t14 t15 t16 t17  \\\n",
      "1                                          ...                               \n",
      "2                                          ...                               \n",
      "3                                          ...                               \n",
      "4                                          ...                               \n",
      "5                                          ...                               \n",
      "...      ...  ... .. .. .. .. .. .. .. ..  ...  ..  ..  ..  ..  ..  ..  ..   \n",
      "9395                                       ...                               \n",
      "9396                                       ...                               \n",
      "9397                                       ...                               \n",
      "9398                                       ...                               \n",
      "9399                                       ...                               \n",
      "\n",
      "     t18 t19 t20  \n",
      "1                 \n",
      "2                 \n",
      "3                 \n",
      "4                 \n",
      "5                 \n",
      "...   ..  ..  ..  \n",
      "9395              \n",
      "9396              \n",
      "9397              \n",
      "9398              \n",
      "9399              \n",
      "\n",
      "[9399 rows x 22 columns]\n"
     ]
    }
   ],
   "source": [
    "#mount_0_0_Ld > div > div > div > div:nth-child(4) > div > div > div.rq0escxv.l9j0dhe7.du4w35lb > div > div.iqfcb0g7.tojvnm2t.a6sixzi8.k5wvi7nf.q3lfd5jv.pk4s997a.bipmatt0.cebpdrjk.qowsmv63.owwhemhu.dp1hu0rb.dhp61c6y.l9j0dhe7.iyyx5f41.a8s20v7p > div > div > div > div > div.pi61vmqs.od1n8kyl.h6an9nv3.j4yusqav.djyw54ux.c9k30104.rxghi256.jhx0qe0y.mbxd2wpa.hb7lyos6.rfyvs5rk.sspdcydq.n34oi56o.c3wyshyw.im6prb7w.kzdz7bm1.k01ojvdi.alxbew3a.t78t6opn > div > article > div > div._aata > div > div > div._aasi > div > header\n",
    "#mount_0_0_Ld > div > div > div > div:nth-child(4) > div > div > div.rq0escxv.l9j0dhe7.du4w35lb > div > div.iqfcb0g7.tojvnm2t.a6sixzi8.k5wvi7nf.q3lfd5jv.pk4s997a.bipmatt0.cebpdrjk.qowsmv63.owwhemhu.dp1hu0rb.dhp61c6y.l9j0dhe7.iyyx5f41.a8s20v7p > div > div > div > div > div.pi61vmqs.od1n8kyl.h6an9nv3.j4yusqav.djyw54ux.c9k30104.rxghi256.jhx0qe0y.mbxd2wpa.hb7lyos6.rfyvs5rk.sspdcydq.n34oi56o.c3wyshyw.im6prb7w.kzdz7bm1.k01ojvdi.alxbew3a.t78t6opn > div > article > div > div._aata > div > div > div._aasi > div > header > div._aaqy._aaqz\n",
    "#mount_0_0_Ld > div > div > div > div:nth-child(4) > div > div > div.rq0escxv.l9j0dhe7.du4w35lb > div > div.iqfcb0g7.tojvnm2t.a6sixzi8.k5wvi7nf.q3lfd5jv.pk4s997a.bipmatt0.cebpdrjk.qowsmv63.owwhemhu.dp1hu0rb.dhp61c6y.l9j0dhe7.iyyx5f41.a8s20v7p > div > div > div > div > div.pi61vmqs.od1n8kyl.h6an9nv3.j4yusqav.djyw54ux.c9k30104.rxghi256.jhx0qe0y.mbxd2wpa.hb7lyos6.rfyvs5rk.sspdcydq.n34oi56o.c3wyshyw.im6prb7w.kzdz7bm1.k01ojvdi.alxbew3a.t78t6opn > div > article > div > div._aata > div > div > div._aasi > div > header > div._aaqy._aaqz > div._aar0._ad95._aar1 > div:nth-child(1) > div > div > div > span > a"
   ]
  },
  {
   "cell_type": "code",
   "execution_count": 10,
   "id": "2517ddfd",
   "metadata": {},
   "outputs": [
    {
     "data": {
      "text/plain": [
       "'reptile_dy'"
      ]
     },
     "execution_count": 10,
     "metadata": {},
     "output_type": "execute_result"
    }
   ],
   "source": [
    "#아이디값 가져오기\n",
    "driver.find_element(By.XPATH,\"//*[@id=\\\"mount_0_0_dS\\\"]/div/div/div/div[2]/div/div/div[1]/div/div[3]/div/div/div/div/div[2]/div/article/div/div[2]/div/div/div[2]/div[1]/ul/div/li/div/div/div[2]/h2/div/span/a\").text"
   ]
  },
  {
   "cell_type": "code",
   "execution_count": null,
   "id": "3f7a5af9",
   "metadata": {},
   "outputs": [],
   "source": [
    "id_list = []\n",
    "for i in range(3):\n",
    "    insta_id = driver.find_element(By.XPATH,\"//*[@id=\\\"mount_0_0_dS\\\"]/div/div/div/div[2]/div/div/div[1]/div/div[3]/div/div/div/div/div[2]/div/article/div/div[2]/div/div/div[2]/div[1]/ul/div/li/div/div/div[2]/h2/div/span/a\").text    \n",
    "    id_list.append(insta_id)"
   ]
  },
  {
   "cell_type": "code",
   "execution_count": 68,
   "id": "27edc1dd",
   "metadata": {},
   "outputs": [],
   "source": [
    "#첫번째장 옆으로 넘기기 1번만 해야힘\n",
    "driver.find_element(By.XPATH,\"/html/body/div[1]/div/div/div/div[2]/div/div/div[1]/div/div[3]/div/div/div/div/div[1]/div/div/div/button\").click()"
   ]
  },
  {
   "cell_type": "code",
   "execution_count": 71,
   "id": "5d48874f",
   "metadata": {},
   "outputs": [],
   "source": [
    "#반복해주는 옆으로 넘기기\n",
    "driver.find_element(By.XPATH,'/html/body/div[1]/div/div/div/div[2]/div/div/div[1]/div/div[3]/div/div/div/div/div[1]/div/div/div[2]/button').click()"
   ]
  }
 ],
 "metadata": {
  "kernelspec": {
   "display_name": "Python 3 (ipykernel)",
   "language": "python",
   "name": "python3"
  },
  "language_info": {
   "codemirror_mode": {
    "name": "ipython",
    "version": 3
   },
   "file_extension": ".py",
   "mimetype": "text/x-python",
   "name": "python",
   "nbconvert_exporter": "python",
   "pygments_lexer": "ipython3",
   "version": "3.9.12"
  },
  "toc": {
   "base_numbering": 1,
   "nav_menu": {},
   "number_sections": true,
   "sideBar": true,
   "skip_h1_title": false,
   "title_cell": "Table of Contents",
   "title_sidebar": "Contents",
   "toc_cell": false,
   "toc_position": {},
   "toc_section_display": true,
   "toc_window_display": false
  }
 },
 "nbformat": 4,
 "nbformat_minor": 5
}
